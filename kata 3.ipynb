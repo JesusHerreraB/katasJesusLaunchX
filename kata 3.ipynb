{
 "cells": [
  {
   "cell_type": "code",
   "execution_count": 1,
   "metadata": {},
   "outputs": [],
   "source": [
    "#Módulo 3 - Usar lógica booleana"
   ]
  },
  {
   "cell_type": "code",
   "execution_count": 2,
   "metadata": {},
   "outputs": [
    {
     "name": "stdout",
     "output_type": "stream",
     "text": [
      "¡Un asteroide se acerca a la Tierra demasiado rápido!\n"
     ]
    }
   ],
   "source": [
    "asteroid = 49   #velocidad del asteroide.\n",
    "if asteroid > 25:\n",
    "    print('¡Un asteroide se acerca a la Tierra demasiado rápido!')\n",
    "else:\n",
    "    print('¡Cielo despejado!')"
   ]
  },
  {
   "cell_type": "code",
   "execution_count": 3,
   "metadata": {},
   "outputs": [
    {
     "name": "stdout",
     "output_type": "stream",
     "text": [
      "¡Cielo despejado!\n"
     ]
    }
   ],
   "source": [
    "asteroid = 19 #velocidad del asteroide.\n",
    "if asteroid > 20:\n",
    "    print('¡Un rayo de luz en el cielo!¡Un asteroide se acerca!')\n",
    "elif asteroid == 20:\n",
    "    print('¡Un rayo de luz en el cielo!¡Un asteroide se acerca!')\n",
    "else:\n",
    "    print('¡Cielo despejado!')"
   ]
  },
  {
   "cell_type": "code",
   "execution_count": 4,
   "metadata": {},
   "outputs": [
    {
     "name": "stdout",
     "output_type": "stream",
     "text": [
      "¡Un asteroide se acerca a la Tierra demasiado rápido!\n"
     ]
    }
   ],
   "source": [
    "V_asteroid = 26 #velocidad del asteroide.\n",
    "S_asteroid = 26\n",
    "if V_asteroid > 25 and S_asteroid > 25:\n",
    "    print('¡Un asteroide se acerca a la Tierra demasiado rápido!')\n",
    "elif V_asteroid >= 20:\n",
    "    print('¡Un rayo de luz en el cielo!¡Un asteroide se acerca!')\n",
    "elif S_asteroid < 25:\n",
    "    print('¡Cielo despejado!')\n",
    "else:\n",
    "    print('¡Cielo despejado!')"
   ]
  }
 ],
 "metadata": {
  "interpreter": {
   "hash": "d3080f3165f48c2e0d02308db9e166b635ace5ef503f89122f3f8fd46583288e"
  },
  "kernelspec": {
   "display_name": "Python 3.8.8 ('base')",
   "language": "python",
   "name": "python3"
  },
  "language_info": {
   "codemirror_mode": {
    "name": "ipython",
    "version": 3
   },
   "file_extension": ".py",
   "mimetype": "text/x-python",
   "name": "python",
   "nbconvert_exporter": "python",
   "pygments_lexer": "ipython3",
   "version": "3.8.8"
  },
  "orig_nbformat": 4
 },
 "nbformat": 4,
 "nbformat_minor": 2
}
