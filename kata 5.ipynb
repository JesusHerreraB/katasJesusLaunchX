{
 "cells": [
  {
   "cell_type": "code",
   "execution_count": 1,
   "metadata": {},
   "outputs": [],
   "source": [
    "#Módulo 5 - Usar operaciones matemáticas"
   ]
  },
  {
   "cell_type": "code",
   "execution_count": 2,
   "metadata": {},
   "outputs": [],
   "source": [
    "# variables para almacenar las dos distancias\n",
    "planet1 = 149597870  #distancia de la Tierra\n",
    "planet2 = 778547200  #distancia de jupiter"
   ]
  },
  {
   "cell_type": "code",
   "execution_count": 3,
   "metadata": {},
   "outputs": [
    {
     "name": "stdout",
     "output_type": "stream",
     "text": [
      "628949330 km\n",
      "390577533.93 mi\n"
     ]
    }
   ],
   "source": [
    "# Calcular la distancia entre planetas\n",
    "dkm = planet2 - planet1\n",
    "print(dkm,'km')\n",
    "dmi = dkm * 0.621\n",
    "print(dmi,'mi')"
   ]
  },
  {
   "cell_type": "code",
   "execution_count": 4,
   "metadata": {},
   "outputs": [],
   "source": [
    "# Almacenar las entradas del usuario\n",
    "planet1 = input('¿Cual es la distancia del sol para el 1er planeta en Km?')\n",
    "planet2 = input('¿Cual es la distancia del sol para el 2do planeta en Km?')"
   ]
  },
  {
   "cell_type": "code",
   "execution_count": 5,
   "metadata": {},
   "outputs": [],
   "source": [
    "# Convierte las cadenas de ambos planetas a números enteros\n",
    "planet1 = int(planet1)\n",
    "planet2 = int(planet2)"
   ]
  },
  {
   "cell_type": "code",
   "execution_count": 6,
   "metadata": {},
   "outputs": [
    {
     "name": "stdout",
     "output_type": "stream",
     "text": [
      "-21321322 km\n",
      "13240540.962 mi\n"
     ]
    }
   ],
   "source": [
    "# Realizar el cálculo y determinar el valor absoluto\n",
    "dkm = planet2 - planet1\n",
    "print(dkm,'km')\n",
    "dmi = dkm * 0.621 # Convertir de Km a Millas\n",
    "print(abs(dmi),'mi')"
   ]
  }
 ],
 "metadata": {
  "interpreter": {
   "hash": "d3080f3165f48c2e0d02308db9e166b635ace5ef503f89122f3f8fd46583288e"
  },
  "kernelspec": {
   "display_name": "Python 3.8.8 ('base')",
   "language": "python",
   "name": "python3"
  },
  "language_info": {
   "codemirror_mode": {
    "name": "ipython",
    "version": 3
   },
   "file_extension": ".py",
   "mimetype": "text/x-python",
   "name": "python",
   "nbconvert_exporter": "python",
   "pygments_lexer": "ipython3",
   "version": "3.8.10"
  },
  "orig_nbformat": 4
 },
 "nbformat": 4,
 "nbformat_minor": 2
}
